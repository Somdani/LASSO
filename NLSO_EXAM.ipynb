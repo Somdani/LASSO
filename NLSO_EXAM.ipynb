{
  "nbformat": 4,
  "nbformat_minor": 0,
  "metadata": {
    "colab": {
      "name": "NLSO_EXAM.ipynb",
      "provenance": [],
      "collapsed_sections": [],
      "authorship_tag": "ABX9TyNPeO7AqQCZYnaRJVwN0xel",
      "include_colab_link": true
    },
    "kernelspec": {
      "name": "python3",
      "display_name": "Python 3"
    }
  },
  "cells": [
    {
      "cell_type": "markdown",
      "metadata": {
        "id": "view-in-github",
        "colab_type": "text"
      },
      "source": [
        "<a href=\"https://colab.research.google.com/github/Somdani/LASSO/blob/master/NLSO_EXAM.ipynb\" target=\"_parent\"><img src=\"https://colab.research.google.com/assets/colab-badge.svg\" alt=\"Open In Colab\"/></a>"
      ]
    },
    {
      "cell_type": "code",
      "metadata": {
        "id": "xgeGoM46m-s9",
        "colab_type": "code",
        "colab": {}
      },
      "source": [
        ""
      ],
      "execution_count": null,
      "outputs": []
    },
    {
      "cell_type": "markdown",
      "metadata": {
        "id": "0UK-nH5u5jXE",
        "colab_type": "text"
      },
      "source": [
        "**Bhekie Danisa - 201633631**"
      ]
    },
    {
      "cell_type": "markdown",
      "metadata": {
        "id": "BURHI0QD6SNc",
        "colab_type": "text"
      },
      "source": [
        "**Question 1**\n",
        "\n",
        "1.1 **Large Scale Optimization** refers to the theory of selecting inputs that results to the best possible outputs for  problems with very high dimension of decision variables.\n",
        "\n",
        "\n",
        "1.2 **The anatomy of Optimization Problem**\n",
        "\n",
        "(a) min 𝑓(𝑥), objective function used to measure performance of the system to be optimized (Minimize or Maximize) such that:\n",
        "\n",
        "(b) 𝐿𝐵 ≤ 𝑥 ≤ 𝑈, contraints on decision variables\n",
        "\n",
        "(b) 𝑔(𝑥) = 0, equality consttraints\n",
        "\n",
        "(c) h(𝑥) ≤ 0, Inequality constraints\n",
        "\n",
        "Where 𝑥 is a vector: 𝑥 = [𝑥1, 𝑥2, 𝑥3, ..., 𝑥𝑛] containing decision variables.\n",
        "\n",
        "Constraints describe the existing relationship between variables and define the permitted values of the variables.\n",
        "\n",
        "Variables are parameters/ components of the system for which we want to find values for.\n",
        "\n",
        "\n",
        "1.3 Importance of Large Scale Optamization in Data Science.\n",
        "\n",
        "(a) Large Scale Optimization is necessary for Data Scientists and Engineers to make business oriented decisions.\n",
        "\n",
        "(b) Large Scale Optimization can be used to improve Machine Learning Models that are used to solve Data Science problems.\n",
        "\n",
        "(c) It helps Data Scientists and Engineers to improve systems in order to produce good results in real-time.\n",
        "\n",
        "(d) It also helps to re-evaluate the existing assumptions about the growing Machine Learning models.\n",
        "\n",
        "(e) It helps to maximize important business factors like productivity, strength, reliability, longevity, efficiency, and utilization.\n",
        "\n",
        "1.4 Primal block angular structure - It is a group of patterns where variables of the subsystem show up together while sharing common resources in the highest constraints.\n",
        "\n",
        "Dual block angular structure - It is a group of patterns where the subsystems interact only by engaging in some common activities.\n",
        "\n",
        "Bordered angular system - It is a group of patterns where problems are solve through decomposition of the system by  removing the complicating variables or constraints, to reduce the problem to one with\n",
        "independent subsystems. "
      ]
    },
    {
      "cell_type": "markdown",
      "metadata": {
        "id": "-r2xNTaFJMuO",
        "colab_type": "text"
      },
      "source": [
        "**Question 2.**\n",
        "\n",
        "2.1 Gradient Descent pseudocode\n",
        "\n",
        "    Initialize weights W.\n",
        "    compute gradients G of cost function\n",
        "      Update weights to G, i.e. W = W - ηG.\n",
        "    Repeat until the cost J(w) stops reducing, or some other pre-defined termination criteria is met.\n",
        "\n",
        "\n",
        "Stochastic Gradient Descent pseudocode\n",
        "\n",
        "    shuffle(x, y)\n",
        "    FOR i FROM 0 -> m:\n",
        "      theta += (alpha / m) * (y[i] - h(x[i])) * x_bar  \n",
        "    ENDLOOP\n",
        "\n",
        "\n",
        "\n",
        "2.2 Gradient Descent strengths\n",
        "\n",
        "(a) It is simple because only use first derivative \n",
        "\n",
        "(b) Requires low storage since there are no matrices.\n",
        "\n",
        "\n",
        "Stochastic Gradient Descent strengths\n",
        "\n",
        "(a) In neural networks, it fits easier to memory because of a single training sample being processed by network.\n",
        "\n",
        "(b) It is computationally fast because it only process one sample at a time."
      ]
    },
    {
      "cell_type": "markdown",
      "metadata": {
        "id": "q0PHJGHGNyD9",
        "colab_type": "text"
      },
      "source": [
        "Gradient Descent code"
      ]
    },
    {
      "cell_type": "code",
      "metadata": {
        "id": "xMPclWYlOCva",
        "colab_type": "code",
        "colab": {}
      },
      "source": [
        "import numpy as np\n",
        "import pandas as pd\n",
        "import matplotlib.pyplot as plt"
      ],
      "execution_count": 13,
      "outputs": []
    },
    {
      "cell_type": "code",
      "metadata": {
        "id": "wqlyiKsKu1Kl",
        "colab_type": "code",
        "colab": {}
      },
      "source": [
        "np.random.seed(123)\n",
        "Xc = np.random.rand(2)\n",
        "λ = 0.01\n",
        "epoch = 1000\n",
        "fx2 = 4*Xc[0]+2*Xc[1]+Xc[0]**2-4**Xc[0]*Xc[1]+Xc[1]**2"
      ],
      "execution_count": 14,
      "outputs": []
    },
    {
      "cell_type": "code",
      "metadata": {
        "id": "a3IyYsc7u1Ty",
        "colab_type": "code",
        "colab": {}
      },
      "source": [
        "def gradient_descent2(x, y, λ, epoch):\n",
        "    X1_new2 = []\n",
        "    X2_new2 = []\n",
        "    for i in range(epoch):\n",
        "        dfdx21 = 4+2*Xc[0]-4*Xc[1]\n",
        "        Xc[0] = Xc[0] - λ * dfdx21\n",
        "        X1_new2.append(Xc[0])\n",
        "        \n",
        "        dfdx22 = 2-4*Xc[1]+2*Xc[0]\n",
        "        Xc[1] = Xc[1] - λ * dfdx22\n",
        "        X2_new2.append(Xc[1])\n",
        "    \n",
        "    return X1_new2, X2_new2\n",
        "X1_new2, X2_new2 = gradient_descent2(Xc, fx2, λ, epoch)"
      ],
      "execution_count": 15,
      "outputs": []
    },
    {
      "cell_type": "code",
      "metadata": {
        "id": "8xB5AfVbOk7e",
        "colab_type": "code",
        "colab": {
          "base_uri": "https://localhost:8080/",
          "height": 34
        },
        "outputId": "61804e8f-a726-4a0b-d6b0-860bc2986dbb"
      },
      "source": [
        "print(\"Gradient Descent: \", X1_new2[0])"
      ],
      "execution_count": 16,
      "outputs": [
        {
          "output_type": "stream",
          "text": [
            "Gradient Descent:  0.6539853752839195\n"
          ],
          "name": "stdout"
        }
      ]
    },
    {
      "cell_type": "code",
      "metadata": {
        "id": "OZe3mwbmu1Yt",
        "colab_type": "code",
        "colab": {
          "base_uri": "https://localhost:8080/",
          "height": 295
        },
        "outputId": "67f736b5-bebe-4f45-f6bc-d6cf28b3333e"
      },
      "source": [
        "plt.title('Function')\n",
        "plt.xlabel('No. of iterations')\n",
        "plt.ylabel('Cost Values')\n",
        "plt.plot(X1_new2)\n",
        "plt.show()"
      ],
      "execution_count": 12,
      "outputs": [
        {
          "output_type": "display_data",
          "data": {
            "image/png": "[encoded data removed]",
            "text/plain": [
              "<Figure size 432x288 with 1 Axes>"
            ]
          },
          "metadata": {
            "tags": [],
            "needs_background": "light"
          }
        }
      ]
    },
    {
      "cell_type": "markdown",
      "metadata": {
        "id": "JvAp0ldLPxIn",
        "colab_type": "text"
      },
      "source": [
        "Stochastic Gradient Descent strengths code"
      ]
    },
    {
      "cell_type": "code",
      "metadata": {
        "id": "D0bPF8FePeJa",
        "colab_type": "code",
        "colab": {}
      },
      "source": [
        "input = np.random.rand(100)\n",
        "output = fx2 + 100.0 * np.random.rand(len(input))"
      ],
      "execution_count": 18,
      "outputs": []
    },
    {
      "cell_type": "code",
      "metadata": {
        "id": "Oc5cEHQrP6HU",
        "colab_type": "code",
        "colab": {}
      },
      "source": [
        "def compute_cost(input, output, params):\n",
        "    \"Compute linear regression cost\"\n",
        "    num_samples = len(input)\n",
        "    cost_sum = 0.0\n",
        "    for x, y in zip(input, output):\n",
        "        y_hat = np.dot(params, np.array([1.0, x]))\n",
        "        cost_sum += (y_hat - y) ** 2\n",
        "    \n",
        "    cost = cost_sum / (num_samples * 2.0)\n",
        "    \n",
        "    return cost"
      ],
      "execution_count": 21,
      "outputs": []
    },
    {
      "cell_type": "code",
      "metadata": {
        "id": "0Jjzx3wFP7qJ",
        "colab_type": "code",
        "colab": {}
      },
      "source": [
        "def lin_reg_stoch_gradient_descent(input, output, params, alpha):\n",
        "    \n",
        "    num_samples = len(input)\n",
        "    cost = np.zeros(num_samples)\n",
        "    params_store = np.zeros([2, num_samples])\n",
        "    \n",
        "    i = 0\n",
        "    for x,y in zip(input, output):\n",
        "        cost[i] = compute_cost(input, output, params)\n",
        "        params_store[:, i] = params\n",
        "       \n",
        "        y_hat = np.dot(params, np.array([1.0, x]))\n",
        "        gradient = np.array([1.0, x]) * (y - y_hat)\n",
        "        params += alpha * gradient/num_samples\n",
        "        \n",
        "        i += 1\n",
        "            \n",
        "    return params, cost, params_store"
      ],
      "execution_count": 22,
      "outputs": []
    },
    {
      "cell_type": "code",
      "metadata": {
        "id": "Pnw_KoFjP8Ej",
        "colab_type": "code",
        "colab": {}
      },
      "source": [
        "alpha = 0.01\n",
        "params_0 = np.array([20.0, 80.0])\n",
        "params_hat, cost, params_store = lin_reg_stoch_gradient_descent(input, output, params_0, alpha)"
      ],
      "execution_count": 23,
      "outputs": []
    },
    {
      "cell_type": "code",
      "metadata": {
        "id": "Ny7JarxtScin",
        "colab_type": "code",
        "colab": {
          "base_uri": "https://localhost:8080/",
          "height": 34
        },
        "outputId": "47c1cc8c-050d-4a28-d282-d13ef664d689"
      },
      "source": [
        "print(\"Parameters: \", params_hat)"
      ],
      "execution_count": 31,
      "outputs": [
        {
          "output_type": "stream",
          "text": [
            "Parameters:  [19.92284001 79.90325916]\n"
          ],
          "name": "stdout"
        }
      ]
    },
    {
      "cell_type": "code",
      "metadata": {
        "id": "HP_wAYUKSk0c",
        "colab_type": "code",
        "colab": {
          "base_uri": "https://localhost:8080/",
          "height": 279
        },
        "outputId": "2123b31b-9b3d-430a-e156-92fbd1bed7da"
      },
      "source": [
        "plt.figure()\n",
        "plt.scatter(input, output)\n",
        "plt.plot(input, params_hat[0] + params_hat[1]*input, '-r', label='stochastic')\n",
        "plt.xlabel('x')\n",
        "plt.ylabel('y')\n",
        "plt.legend()\n",
        "plt.show()"
      ],
      "execution_count": 40,
      "outputs": [
        {
          "output_type": "display_data",
          "data": {
            "image/png": "[encoded data removed]",
            "text/plain": [
              "<Figure size 432x288 with 1 Axes>"
            ]
          },
          "metadata": {
            "tags": [],
            "needs_background": "light"
          }
        }
      ]
    },
    {
      "cell_type": "code",
      "metadata": {
        "id": "03fFgelZSm8X",
        "colab_type": "code",
        "colab": {}
      },
      "source": [
        ""
      ],
      "execution_count": 24,
      "outputs": []
    },
    {
      "cell_type": "markdown",
      "metadata": {
        "id": "BhtvLv_VWWBk",
        "colab_type": "text"
      },
      "source": [
        "**Quetion 3**\n",
        "\n",
        "3.1.1\n",
        "\n",
        "**Interior point methods**\n",
        "\n",
        "Are the certain class of algorithms that solve linear and nonlinear convex optimization problems. Approximates the constraints of a linear programming model as a set of boundaries all over a region.\n",
        "\n",
        "3.1.2\n",
        "\n",
        "**Proximal point methods**\n",
        "\n",
        "Refers to a class of generalized form of projection used to solve non-differentiable convex optimization problems. Its it based on a concept for minimizing closed convex functions.\n",
        "\n",
        "3.1.3\n",
        "\n",
        "**Importance of interior point methods**\n",
        "\n",
        "(a) Because it is one of the most important successive approximation method for finding fixed point optimization problem into more general one.\n",
        "\n",
        "(b) It plays a very important role in optimization to minimize the cost function of the unconstrained problem.\n",
        "\n",
        "**Importance of proximal point methods**\n",
        "\n",
        "(a) Plays a crucial role in solving the problem has constraints that are discontinuous or otherwise troublesome, but can be modified so that a linear solver can handle them.\n",
        "\n",
        "(b) Plays important role in solving large problems with very large sets of constraints to find an optimal value of a linear cost function.\n",
        "\n",
        "\n",
        "3.2 Smooth techniques play an important role in providing parallelism with fast solution for large scale problems and has a guaranteed optimal convergence for problems with existing algorithms like smooth and non-smooth stochastic optimization problems.\n",
        "\n",
        "(a) Uses optimal first order algorithms to smooth and solve the non-smooth problems.\n",
        "\n",
        "(b) Reformulates the problem in the appropriate form for smoothing process.\n",
        "\n",
        "(c) Makes the problem smooth.\n",
        "\n",
        "(d) Solves the problem with a smooth convex solver.\n",
        "\n",
        "3.3 Drawbacksn of smoothing methods\n",
        "\n",
        "(a) Smoothing techniques are indefensible and very rough in large samples.\n",
        "\n",
        "(b) They are very slow, inflexible and reductive near complexity."
      ]
    },
    {
      "cell_type": "markdown",
      "metadata": {
        "id": "3A_y95n7eQCp",
        "colab_type": "text"
      },
      "source": [
        "**Question 4**\n",
        "\n",
        "4.1 **Conic Problems**\n",
        "\n",
        "(a) Quadratic Program (QP) - is the problem of optimizing a quadratic objective function of a non-linear problem.\n",
        "\n",
        "(b) Linear Program (LP) - is a generalized inequality with respect to a proper convex cone.\n",
        "\n",
        "(c) Second Order Cone Program (SOCP) - is a convex optimization problem of the form minimize subject to where the problem parameters are.\n",
        "\n",
        "4.2 The relationship among Linear Program, Second Order Cone Program and Quadratic Program is that any type of linear programming problem is a conic optimisation, while the quadratic constraints can be automatically converted to second order cone constraints, hence the second order cone problem solver can be used to solve either linear program or quadratic program."
      ]
    },
    {
      "cell_type": "markdown",
      "metadata": {
        "id": "Q1SgCm7Ig1P0",
        "colab_type": "text"
      },
      "source": [
        "**Question 5**"
      ]
    },
    {
      "cell_type": "markdown",
      "metadata": {
        "id": "Nh1c_lZSg-JS",
        "colab_type": "text"
      },
      "source": [
        ""
      ]
    },
    {
      "cell_type": "code",
      "metadata": {
        "id": "91nIE6B1u1ct",
        "colab_type": "code",
        "colab": {}
      },
      "source": [
        "%matplotlib inline \n",
        "import numpy as np\n",
        "from matplotlib import pyplot as plt"
      ],
      "execution_count": 55,
      "outputs": []
    },
    {
      "cell_type": "code",
      "metadata": {
        "id": "WgiCI5g1u1gj",
        "colab_type": "code",
        "colab": {}
      },
      "source": [
        "N = 200\n",
        "dim = 40\n",
        "λ = 1/np.sqrt(N);\n",
        "np.random.seed(50)\n",
        "w = np.matrix(np.random.multivariate_normal([0.0]*dim, np.eye(dim)))\n",
        "X = np.matrix(np.random.multivariate_normal([0.0]*dim, np.eye(dim), size = N))\n",
        "y = X*w.T\n",
        "\n",
        "L = (np.linalg.svd(X)[1][0])**2\n",
        "epochs = 200"
      ],
      "execution_count": 56,
      "outputs": []
    },
    {
      "cell_type": "code",
      "metadata": {
        "id": "Y9pcc-gG1iet",
        "colab_type": "code",
        "colab": {}
      },
      "source": [
        "import cvxpy as cvx\n",
        "\n",
        "w = cvx.Variable(dim)\n",
        "loss = cvx.sum_squares(X*w-y)/2 + λ * cvx.norm(w,1)\n",
        "\n",
        "problem = cvx.Problem(cvx.Minimize(loss))\n",
        "problem.solve(verbose=True) \n",
        "opt = problem.value"
      ],
      "execution_count": 53,
      "outputs": []
    },
    {
      "cell_type": "code",
      "metadata": {
        "id": "CbjKFRcK3RzH",
        "colab_type": "code",
        "colab": {}
      },
      "source": [
        ""
      ],
      "execution_count": null,
      "outputs": []
    },
    {
      "cell_type": "code",
      "metadata": {
        "id": "Nr1Ul2kBu1kc",
        "colab_type": "code",
        "colab": {}
      },
      "source": [
        "def obj(w):\n",
        "    r = X*w-y;\n",
        "    return np.sum(np.multiply(r,r))/2 +  λ * np.sum(np.abs(w))\n",
        "\n",
        "def subgrad(w):\n",
        "    return  X.T*(X*w-y) + λ*np.sign(w) \n",
        "\n",
        "def f_grad(w):\n",
        "    return  X.T*(X*w-y) \n",
        "\n",
        "def soft_threshod(w,mu):\n",
        "    return np.multiply(np.sign(w), np.maximum(np.abs(w)- mu,0))  \n",
        "\n",
        "def smooth_grad(w, mu):\n",
        "    temp = np.multiply((np.abs(w)<=mu),w/mu) + np.multiply((np.abs(w)>mu),np.sign(w)) \n",
        "    return X.T*(X*w-y) + λ * temp"
      ],
      "execution_count": 57,
      "outputs": []
    },
    {
      "cell_type": "markdown",
      "metadata": {
        "id": "hA0xbxzHzj32",
        "colab_type": "text"
      },
      "source": [
        "**Nesterov Smoothing Method**"
      ]
    },
    {
      "cell_type": "code",
      "metadata": {
        "id": "ZhIfz6zy0_yR",
        "colab_type": "code",
        "colab": {}
      },
      "source": [
        "w = np.matrix([0.0]*dim).T\n",
        "obj_SD = []\n",
        "gamma = 0.01\n",
        "for t in range(0, epochs):\n",
        "    obj_val = obj(w)\n",
        "    w = w - gamma * subgrad(w)/np.sqrt(t+1)\n",
        "    \n",
        "    obj_SD.append(obj_val.item())"
      ],
      "execution_count": 58,
      "outputs": []
    },
    {
      "cell_type": "code",
      "metadata": {
        "id": "FOY_RpMUu1qp",
        "colab_type": "code",
        "colab": {
          "base_uri": "https://localhost:8080/",
          "height": 703
        },
        "outputId": "9b15efa6-2d29-4bc2-9ee4-d325a8b53971"
      },
      "source": [
        "w = np.matrix([0.0]*dim).T\n",
        "smoothness = 0.01\n",
        "obj_SM = []\n",
        "for t in range(0, epochs):\n",
        "    obj_val = obj(w)\n",
        "    w = w - smooth_grad(w, smoothness)/(L + λ/smoothness)\n",
        "    \n",
        "    obj_SM.append(obj_val.item())\n",
        "    if (t%5==0):\n",
        "        print('iter= {},\\tobjective= {:3f}'.format(t, obj_val.item()))"
      ],
      "execution_count": 59,
      "outputs": [
        {
          "output_type": "stream",
          "text": [
            "iter= 0,\tobjective= 4579.022297\n",
            "iter= 5,\tobjective= 28.019513\n",
            "iter= 10,\tobjective= 4.153200\n",
            "iter= 15,\tobjective= 2.481198\n",
            "iter= 20,\tobjective= 2.306283\n",
            "iter= 25,\tobjective= 2.284956\n",
            "iter= 30,\tobjective= 2.282145\n",
            "iter= 35,\tobjective= 2.281758\n",
            "iter= 40,\tobjective= 2.281704\n",
            "iter= 45,\tobjective= 2.281696\n",
            "iter= 50,\tobjective= 2.281695\n",
            "iter= 55,\tobjective= 2.281695\n",
            "iter= 60,\tobjective= 2.281695\n",
            "iter= 65,\tobjective= 2.281695\n",
            "iter= 70,\tobjective= 2.281695\n",
            "iter= 75,\tobjective= 2.281695\n",
            "iter= 80,\tobjective= 2.281695\n",
            "iter= 85,\tobjective= 2.281695\n",
            "iter= 90,\tobjective= 2.281695\n",
            "iter= 95,\tobjective= 2.281695\n",
            "iter= 100,\tobjective= 2.281695\n",
            "iter= 105,\tobjective= 2.281695\n",
            "iter= 110,\tobjective= 2.281695\n",
            "iter= 115,\tobjective= 2.281695\n",
            "iter= 120,\tobjective= 2.281695\n",
            "iter= 125,\tobjective= 2.281695\n",
            "iter= 130,\tobjective= 2.281695\n",
            "iter= 135,\tobjective= 2.281695\n",
            "iter= 140,\tobjective= 2.281695\n",
            "iter= 145,\tobjective= 2.281695\n",
            "iter= 150,\tobjective= 2.281695\n",
            "iter= 155,\tobjective= 2.281695\n",
            "iter= 160,\tobjective= 2.281695\n",
            "iter= 165,\tobjective= 2.281695\n",
            "iter= 170,\tobjective= 2.281695\n",
            "iter= 175,\tobjective= 2.281695\n",
            "iter= 180,\tobjective= 2.281695\n",
            "iter= 185,\tobjective= 2.281695\n",
            "iter= 190,\tobjective= 2.281695\n",
            "iter= 195,\tobjective= 2.281695\n"
          ],
          "name": "stdout"
        }
      ]
    },
    {
      "cell_type": "code",
      "metadata": {
        "id": "DlxHkuhju1ty",
        "colab_type": "code",
        "colab": {}
      },
      "source": [
        "t = np.arange(0, epochs)\n",
        "fig, ax = plt.subplots(figsize = (9, 6))\n",
        "plt.semilogy(t, np.array(obj_SD)-opt, 'g', linewidth = 2, label = 'Subgradient Descent')\n",
        "plt.semilogy(t, np.array(obj_SM)-opt, 'm', linewidth = 2, label = 'Nesterov Smoothing')\n",
        "plt.legend(prop={'size':12})\n",
        "plt.xlabel('Iteration')\n",
        "plt.ylabel('Objective')"
      ],
      "execution_count": 53,
      "outputs": []
    },
    {
      "cell_type": "code",
      "metadata": {
        "id": "HodS3NDju1xE",
        "colab_type": "code",
        "colab": {}
      },
      "source": [
        ""
      ],
      "execution_count": null,
      "outputs": []
    },
    {
      "cell_type": "markdown",
      "metadata": {
        "id": "XyYxKm28qJ7t",
        "colab_type": "text"
      },
      "source": [
        "**Accelerated Proximal Gradient Method**"
      ]
    },
    {
      "cell_type": "code",
      "metadata": {
        "id": "S7HTGURLu10e",
        "colab_type": "code",
        "colab": {
          "base_uri": "https://localhost:8080/",
          "height": 703
        },
        "outputId": "ebdf4e4d-a194-473d-e300-b39c9867f7f1"
      },
      "source": [
        "w = np.matrix([0.0]*dim).T\n",
        "v = w\n",
        "obj_APG = []\n",
        "gamma = 1/L\n",
        "for t in range(0, epochs):\n",
        "    obj_val = obj(w)\n",
        "    w_prev = w\n",
        "    w = v - gamma * f_grad(v)\n",
        "    w = soft_threshod(w,λ * gamma)\n",
        "    v = w + t/(t+3) * (w - w_prev)\n",
        "\n",
        "    obj_APG.append(obj_val.item())\n",
        "    if (t%5==0):\n",
        "        print('iter= {},\\tobjective= {:3f}'.format(t, obj_val.item()))"
      ],
      "execution_count": 60,
      "outputs": [
        {
          "output_type": "stream",
          "text": [
            "iter= 0,\tobjective= 4579.022297\n",
            "iter= 5,\tobjective= 8.912325\n",
            "iter= 10,\tobjective= 2.520301\n",
            "iter= 15,\tobjective= 2.290613\n",
            "iter= 20,\tobjective= 2.284559\n",
            "iter= 25,\tobjective= 2.282171\n",
            "iter= 30,\tobjective= 2.281720\n",
            "iter= 35,\tobjective= 2.281715\n",
            "iter= 40,\tobjective= 2.281701\n",
            "iter= 45,\tobjective= 2.281695\n",
            "iter= 50,\tobjective= 2.281695\n",
            "iter= 55,\tobjective= 2.281695\n",
            "iter= 60,\tobjective= 2.281695\n",
            "iter= 65,\tobjective= 2.281695\n",
            "iter= 70,\tobjective= 2.281695\n",
            "iter= 75,\tobjective= 2.281695\n",
            "iter= 80,\tobjective= 2.281695\n",
            "iter= 85,\tobjective= 2.281695\n",
            "iter= 90,\tobjective= 2.281695\n",
            "iter= 95,\tobjective= 2.281695\n",
            "iter= 100,\tobjective= 2.281695\n",
            "iter= 105,\tobjective= 2.281695\n",
            "iter= 110,\tobjective= 2.281695\n",
            "iter= 115,\tobjective= 2.281695\n",
            "iter= 120,\tobjective= 2.281695\n",
            "iter= 125,\tobjective= 2.281695\n",
            "iter= 130,\tobjective= 2.281695\n",
            "iter= 135,\tobjective= 2.281695\n",
            "iter= 140,\tobjective= 2.281695\n",
            "iter= 145,\tobjective= 2.281695\n",
            "iter= 150,\tobjective= 2.281695\n",
            "iter= 155,\tobjective= 2.281695\n",
            "iter= 160,\tobjective= 2.281695\n",
            "iter= 165,\tobjective= 2.281695\n",
            "iter= 170,\tobjective= 2.281695\n",
            "iter= 175,\tobjective= 2.281695\n",
            "iter= 180,\tobjective= 2.281695\n",
            "iter= 185,\tobjective= 2.281695\n",
            "iter= 190,\tobjective= 2.281695\n",
            "iter= 195,\tobjective= 2.281695\n"
          ],
          "name": "stdout"
        }
      ]
    },
    {
      "cell_type": "markdown",
      "metadata": {
        "id": "VKNYZv48tEZx",
        "colab_type": "text"
      },
      "source": [
        "Both Nesterov Smoothing Method and Accelerated Proximal Gradient Method are very fast in terms of convergence, however, Accelerated Proximal Gradient Method is a little bit faster than Nesterov Smoothing Method in terms of convergence."
      ]
    }
  ]
}